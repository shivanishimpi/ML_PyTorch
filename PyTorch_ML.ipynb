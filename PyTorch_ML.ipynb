{
  "nbformat": 4,
  "nbformat_minor": 0,
  "metadata": {
    "colab": {
      "name": "PyTorch_ML.ipynb",
      "provenance": [],
      "toc_visible": true,
      "authorship_tag": "ABX9TyNsKzW2PbHMsWCpBU+78poZ",
      "include_colab_link": true
    },
    "kernelspec": {
      "name": "python3",
      "display_name": "Python 3"
    }
  },
  "cells": [
    {
      "cell_type": "markdown",
      "metadata": {
        "id": "view-in-github",
        "colab_type": "text"
      },
      "source": [
        "<a href=\"https://colab.research.google.com/github/shivanishimpi/ML_PyTorch/blob/master/PyTorch_ML.ipynb\" target=\"_parent\"><img src=\"https://colab.research.google.com/assets/colab-badge.svg\" alt=\"Open In Colab\"/></a>"
      ]
    },
    {
      "cell_type": "code",
      "metadata": {
        "id": "shSPTLa169Ni",
        "colab_type": "code",
        "cellView": "form",
        "colab": {}
      },
      "source": [
        "#@title Imports\n",
        "import numpy as np\n",
        "import torch"
      ],
      "execution_count": null,
      "outputs": []
    },
    {
      "cell_type": "markdown",
      "metadata": {
        "id": "ulVHz03c9JCC",
        "colab_type": "text"
      },
      "source": [
        "```PyTorch``` is for processing tensors (Numbers, Vectors, 3 Dimensional arrays)"
      ]
    },
    {
      "cell_type": "markdown",
      "metadata": {
        "id": "I-k5pmBL4Tvn",
        "colab_type": "text"
      },
      "source": [
        "Reference Links:\n",
        "\n",
        "\n",
        "[For more information on Tensors](https://pytorch.org/docs/stable/tensors.html)\n",
        "\n",
        "[PyTorch AutoGrad](https://towardsdatascience.com/pytorch-autograd-understanding-the-heart-of-pytorchs-magic-2686cd94ec95)"
      ]
    },
    {
      "cell_type": "markdown",
      "metadata": {
        "id": "QxEFUKA--dsb",
        "colab_type": "text"
      },
      "source": [
        "#Table of Contents\n",
        "\n",
        "[Basics of PyTorch](#scrollTo=0eg8vAOQzChK)\n",
        "\n",
        "[Linear Regression from Scratch](#scrollTo=FOtz5Oy3F0H9)\n",
        "\n",
        "[Linear Regression using PyTorch built-ins](#scrollTo=eFPRLkl_-V0J)"
      ]
    },
    {
      "cell_type": "markdown",
      "metadata": {
        "id": "0eg8vAOQzChK",
        "colab_type": "text"
      },
      "source": [
        "#Basics of PyTorch"
      ]
    },
    {
      "cell_type": "markdown",
      "metadata": {
        "id": "AoqZOzuIzhYg",
        "colab_type": "text"
      },
      "source": [
        "Working with Torch tensors \n"
      ]
    },
    {
      "cell_type": "code",
      "metadata": {
        "id": "ACmzNSCf7wJx",
        "colab_type": "code",
        "colab": {
          "base_uri": "https://localhost:8080/",
          "height": 34
        },
        "outputId": "eb8e7f0d-4760-4ec1-c432-f0d0e315468b"
      },
      "source": [
        "#number\n",
        "tensor1 = torch.tensor(4.)\n",
        "tensor1.dtype\n",
        "#vector\n",
        "tensor1 = torch.tensor([1,3.5,2,4,3.])\n",
        "tensor1.dtype\n",
        "#matrix\n",
        "tensor1 = torch.tensor([[1,3],[2,4.],[2,4]])\n",
        "tensor1\n",
        "#3darray\n",
        "tensor1 = torch.tensor(\n",
        "    [\n",
        "     [[1,2],[4,5]],\n",
        "     [[2,3],[23,34]]\n",
        "    ]\n",
        ")\n",
        "tensor1.shape"
      ],
      "execution_count": null,
      "outputs": [
        {
          "output_type": "execute_result",
          "data": {
            "text/plain": [
              "torch.Size([2, 2, 2])"
            ]
          },
          "metadata": {
            "tags": []
          },
          "execution_count": 2
        }
      ]
    },
    {
      "cell_type": "markdown",
      "metadata": {
        "id": "gA6RAJ799gcu",
        "colab_type": "text"
      },
      "source": [
        "Operations and gradients in Tensors"
      ]
    },
    {
      "cell_type": "code",
      "metadata": {
        "id": "HhqRom2B9fX8",
        "colab_type": "code",
        "colab": {
          "base_uri": "https://localhost:8080/",
          "height": 52
        },
        "outputId": "0368c955-8802-44d8-9a29-1af88de40be6"
      },
      "source": [
        "'''\n",
        "m = torch.tensor([2,3,4])\n",
        "x = torch.tensor([42,35,62])\n",
        "c = torch.tensor([4,5,6.], requires_grad=True) #only floats need gradients\n",
        "y=m*x+c \n",
        "print(f'Operation: {y}')\n",
        "'''"
      ],
      "execution_count": null,
      "outputs": [
        {
          "output_type": "execute_result",
          "data": {
            "application/vnd.google.colaboratory.intrinsic+json": {
              "type": "string"
            },
            "text/plain": [
              "\"\\nm = torch.tensor([2,3,4])\\nx = torch.tensor([42,35,62])\\nc = torch.tensor([4,5,6.], requires_grad=True) #only floats need gradients\\ny=m*x+c \\nprint(f'Operation: {y}')\\n\""
            ]
          },
          "metadata": {
            "tags": []
          },
          "execution_count": 3
        }
      ]
    },
    {
      "cell_type": "code",
      "metadata": {
        "id": "ZHNgHLQqwJTO",
        "colab_type": "code",
        "colab": {
          "base_uri": "https://localhost:8080/",
          "height": 119
        },
        "outputId": "7d6500bf-6a1c-483e-f053-45420ea273f2"
      },
      "source": [
        "m = torch.tensor(6. ,requires_grad=True)\n",
        "x = torch.tensor(2., requires_grad=True)\n",
        "c = torch.tensor(4., requires_grad=True) #only floats need gradients\n",
        "y=m*x+c\n",
        "y.backward() #works only for scalars, computes gradients\n",
        "\n",
        "print(f'''Displaying gradients / derivatives:\n",
        "y = mx + c = {y}\n",
        "dy/dx = {x.grad}\n",
        "dy/dm = {m.grad}\n",
        "dy/dc = {c.grad}\n",
        "''')"
      ],
      "execution_count": null,
      "outputs": [
        {
          "output_type": "stream",
          "text": [
            "Displaying gradients / derivatives:\n",
            "y = mx + c = 16.0\n",
            "dy/dx = 6.0\n",
            "dy/dm = 2.0\n",
            "dy/dc = 1.0\n",
            "\n"
          ],
          "name": "stdout"
        }
      ]
    },
    {
      "cell_type": "markdown",
      "metadata": {
        "id": "K9uFKwWwxgAr",
        "colab_type": "text"
      },
      "source": [
        "Interoperability with ```Numpy```"
      ]
    },
    {
      "cell_type": "code",
      "metadata": {
        "id": "WAgJ82XOxpNc",
        "colab_type": "code",
        "colab": {
          "base_uri": "https://localhost:8080/",
          "height": 68
        },
        "outputId": "fcf07036-080d-43e3-b936-6ebb2348a129"
      },
      "source": [
        "import numpy as np\n",
        "\n",
        "print(f'Input Torch Tensor: {y.dtype}')\n",
        "\n",
        "#from torch tensor to numpy array\n",
        "x = y.detach().numpy() #for gradients, else y.numpy()\n",
        "print(f'Converted to Numpy Array: {x.dtype}')\n",
        "\n",
        "#from numpy array to torch tensor\n",
        "y = torch.from_numpy(x)\n",
        "print(f'Reconverted to Torch Tensor: {y.dtype}')"
      ],
      "execution_count": null,
      "outputs": [
        {
          "output_type": "stream",
          "text": [
            "Input Torch Tensor: torch.float32\n",
            "Converted to Numpy Array: float32\n",
            "Reconverted to Torch Tensor: torch.float32\n"
          ],
          "name": "stdout"
        }
      ]
    },
    {
      "cell_type": "markdown",
      "metadata": {
        "id": "FOtz5Oy3F0H9",
        "colab_type": "text"
      },
      "source": [
        "#Linear Regression from the Scratch"
      ]
    },
    {
      "cell_type": "markdown",
      "metadata": {
        "id": "AmI5lOSrHcbm",
        "colab_type": "text"
      },
      "source": [
        "We aren't using any input files here, since this is just s test implementation of model so we are going to create our own data\n",
        "\n",
        "*Data creation*"
      ]
    },
    {
      "cell_type": "code",
      "metadata": {
        "id": "0aviL2DgpRYn",
        "colab_type": "code",
        "colab": {
          "base_uri": "https://localhost:8080/",
          "height": 52
        },
        "outputId": "866f43db-9d9c-402d-a3f4-e67476fc3003"
      },
      "source": [
        "#Not gonna work since np.random.uniform doesn't take the dtype argument and it'd naturally be in float64\n",
        "'''\n",
        "inputs = np.random.uniform(low=20., high=99., size=(5,3))\n",
        "labels = np.random.uniform(low=50., high=150., size=(5,2))\n",
        "print(f'Inputs: {inputs}\\nLabels: {labels}')\n",
        "'''"
      ],
      "execution_count": null,
      "outputs": [
        {
          "output_type": "execute_result",
          "data": {
            "application/vnd.google.colaboratory.intrinsic+json": {
              "type": "string"
            },
            "text/plain": [
              "\"\\ninputs = np.random.uniform(low=20., high=99., size=(5,3))\\nlabels = np.random.uniform(low=50., high=150., size=(5,2))\\nprint(f'Inputs: {inputs}\\nLabels: {labels}')\\n\""
            ]
          },
          "metadata": {
            "tags": []
          },
          "execution_count": 6
        }
      ]
    },
    {
      "cell_type": "code",
      "metadata": {
        "id": "oA8IBFUYxniC",
        "colab_type": "code",
        "colab": {}
      },
      "source": [
        "# Input (temp, rainfall, humidity)\n",
        "inputs = np.array([[73, 67, 43], \n",
        "                   [91, 88, 64], \n",
        "                   [87, 134, 58], \n",
        "                   [102, 43, 37], \n",
        "                   [69, 96, 70]], dtype='float32')\n",
        "# Targets (apples, oranges)\n",
        "labels = np.array([[56, 70], \n",
        "                    [81, 101], \n",
        "                    [119, 133], \n",
        "                    [22, 37], \n",
        "                    [103, 119]], dtype='float32')"
      ],
      "execution_count": null,
      "outputs": []
    },
    {
      "cell_type": "code",
      "metadata": {
        "id": "exQv8ZNkmuhB",
        "colab_type": "code",
        "colab": {}
      },
      "source": [
        "inputs = torch.from_numpy(inputs)\n",
        "labels = torch.from_numpy(labels)"
      ],
      "execution_count": null,
      "outputs": []
    },
    {
      "cell_type": "code",
      "metadata": {
        "id": "sajBAOR0yT2f",
        "colab_type": "code",
        "colab": {
          "base_uri": "https://localhost:8080/",
          "height": 34
        },
        "outputId": "46f50392-8216-433c-c4b2-b78a3057c043"
      },
      "source": [
        "inputs.dtype #if dtype!='float32' print(runtimeError)"
      ],
      "execution_count": null,
      "outputs": [
        {
          "output_type": "execute_result",
          "data": {
            "text/plain": [
              "torch.float32"
            ]
          },
          "metadata": {
            "tags": []
          },
          "execution_count": 9
        }
      ]
    },
    {
      "cell_type": "markdown",
      "metadata": {
        "id": "t3yArPWmzExi",
        "colab_type": "text"
      },
      "source": [
        "Creating the linear regresssion model \n",
        "\n",
        "\n",
        "The equations are going to be - \n",
        "\n",
        "\n",
        "\n",
        "$$labels^{1} = w_{11}\\cdot inputs^{1} + w_{12}\\cdot inputs^{2}+ w_{13}\\cdot inputs^{3}+b_{1}$$\n",
        "\n",
        "$$labels^{2} = w_{21}\\cdot inputs^{1} + w_{22}\\cdot inputs^{2}+ w_{23}\\cdot inputs^{3}+b_{2}$$"
      ]
    },
    {
      "cell_type": "code",
      "metadata": {
        "id": "x_ufz3UvsWF0",
        "colab_type": "code",
        "colab": {
          "base_uri": "https://localhost:8080/",
          "height": 102
        },
        "outputId": "5d68767e-1ced-4b56-88d4-fb2262a401aa"
      },
      "source": [
        "weights = torch.randn(2,3,requires_grad=True) #2x3 weights matrix\n",
        "bias = torch.randn(2,requires_grad=True) #two bias units\n",
        "print(f'''\n",
        "{weights}\n",
        "{bias}\n",
        "''')"
      ],
      "execution_count": null,
      "outputs": [
        {
          "output_type": "stream",
          "text": [
            "\n",
            "tensor([[ 0.7391, -0.7679, -1.5919],\n",
            "        [ 0.3780, -0.6600, -0.2270]], requires_grad=True)\n",
            "tensor([-0.2100, -0.4485], requires_grad=True)\n",
            "\n"
          ],
          "name": "stdout"
        }
      ]
    },
    {
      "cell_type": "code",
      "metadata": {
        "id": "aK7g8sdjuqfH",
        "colab_type": "code",
        "colab": {}
      },
      "source": [
        "def model(x):\n",
        "  return x@weights.t() + bias #@ is matrix multiplication and .t() is transpose"
      ],
      "execution_count": null,
      "outputs": []
    },
    {
      "cell_type": "code",
      "metadata": {
        "id": "JDRS6_o_wlew",
        "colab_type": "code",
        "colab": {
          "base_uri": "https://localhost:8080/",
          "height": 187
        },
        "outputId": "bdde5966-a039-43cc-b441-ab985222b91d"
      },
      "source": [
        "predictions = model(inputs)\n",
        "print(predictions)\n",
        "print(labels)"
      ],
      "execution_count": null,
      "outputs": [
        {
          "output_type": "stream",
          "text": [
            "tensor([[ -66.1574,  -26.8358],\n",
            "        [-102.4098,  -38.6584],\n",
            "        [-131.1404,  -69.1672],\n",
            "        [ -16.7404,    1.3260],\n",
            "        [-134.3658,  -53.6150]], grad_fn=<AddBackward0>)\n",
            "tensor([[ 56.,  70.],\n",
            "        [ 81., 101.],\n",
            "        [119., 133.],\n",
            "        [ 22.,  37.],\n",
            "        [103., 119.]])\n"
          ],
          "name": "stdout"
        }
      ]
    },
    {
      "cell_type": "markdown",
      "metadata": {
        "id": "0SMFoyx31Exa",
        "colab_type": "text"
      },
      "source": [
        "Mean Squared Error (MSE) Loss"
      ]
    },
    {
      "cell_type": "code",
      "metadata": {
        "id": "uGVRmaJV1ELb",
        "colab_type": "code",
        "colab": {}
      },
      "source": [
        "#delta = (predictions - labels)**2\n",
        "#print(torch.sum(delta)/delta.numel())"
      ],
      "execution_count": null,
      "outputs": []
    },
    {
      "cell_type": "code",
      "metadata": {
        "id": "Od-oK4C61qv5",
        "colab_type": "code",
        "colab": {}
      },
      "source": [
        "def MSE(val1,val2):\n",
        "  delta = (val1-val2)**2\n",
        "  return torch.sum(delta)/delta.numel()"
      ],
      "execution_count": null,
      "outputs": []
    },
    {
      "cell_type": "code",
      "metadata": {
        "id": "hRaH-R1T12er",
        "colab_type": "code",
        "colab": {
          "base_uri": "https://localhost:8080/",
          "height": 34
        },
        "outputId": "a5dc6ac6-333d-4d47-c5dd-e36641d1b4bb"
      },
      "source": [
        "loss = MSE(predictions, labels)\n",
        "print(loss)"
      ],
      "execution_count": null,
      "outputs": [
        {
          "output_type": "stream",
          "text": [
            "tensor(26979.6934, grad_fn=<DivBackward0>)\n"
          ],
          "name": "stdout"
        }
      ]
    },
    {
      "cell_type": "code",
      "metadata": {
        "id": "qSG_igAh3c-s",
        "colab_type": "code",
        "colab": {}
      },
      "source": [
        "loss.backward(create_graph=True)"
      ],
      "execution_count": null,
      "outputs": []
    },
    {
      "cell_type": "markdown",
      "metadata": {
        "id": "qZb66R0V71zB",
        "colab_type": "text"
      },
      "source": [
        "PyTorch accumulates gradients, so if ```.backward()``` is called again, it'll add the new gradients to the former one, rather than replacing it"
      ]
    },
    {
      "cell_type": "code",
      "metadata": {
        "id": "PuDUamNn3X15",
        "colab_type": "code",
        "colab": {
          "base_uri": "https://localhost:8080/",
          "height": 34
        },
        "outputId": "6d404e51-a2b8-4cf9-c0fc-35c9211dab45"
      },
      "source": [
        "weights.grad.zero_()\n",
        "bias.grad.zero_()"
      ],
      "execution_count": null,
      "outputs": [
        {
          "output_type": "execute_result",
          "data": {
            "text/plain": [
              "tensor([0., 0.], grad_fn=<ZeroBackward>)"
            ]
          },
          "metadata": {
            "tags": []
          },
          "execution_count": 17
        }
      ]
    },
    {
      "cell_type": "markdown",
      "metadata": {
        "id": "nVsnCsUS8ODt",
        "colab_type": "text"
      },
      "source": [
        "Gradient descent"
      ]
    },
    {
      "cell_type": "markdown",
      "metadata": {
        "id": "vcHC1_xs8il_",
        "colab_type": "text"
      },
      "source": [
        "```torch.no_grad()``` avoids any gradient modification while updating the weights and biases"
      ]
    },
    {
      "cell_type": "code",
      "metadata": {
        "id": "SQxBauYV8Nr_",
        "colab_type": "code",
        "colab": {}
      },
      "source": [
        "numEpoch = 100\n",
        "learning_rate = 1e-4\n",
        "\n",
        "for i in range(numEpoch):\n",
        "  predictions = model(inputs)\n",
        "  loss = MSE(predictions,labels)\n",
        "  loss.backward()\n",
        "  with torch.no_grad():\n",
        "    weights -= weights.grad * learning_rate\n",
        "    bias -= bias.grad * learning_rate\n",
        "    weights.grad.zero_()\n",
        "    bias.grad.zero_()"
      ],
      "execution_count": null,
      "outputs": []
    },
    {
      "cell_type": "code",
      "metadata": {
        "id": "nkRWhYrE-BEm",
        "colab_type": "code",
        "colab": {
          "base_uri": "https://localhost:8080/",
          "height": 34
        },
        "outputId": "d57bb523-e2e3-48ee-e9b8-8f952c16fea1"
      },
      "source": [
        "predictions = model(inputs)\n",
        "loss = MSE(predictions, labels)\n",
        "print(loss)"
      ],
      "execution_count": null,
      "outputs": [
        {
          "output_type": "stream",
          "text": [
            "tensor(25.3096, grad_fn=<DivBackward0>)\n"
          ],
          "name": "stdout"
        }
      ]
    },
    {
      "cell_type": "code",
      "metadata": {
        "id": "EZP78ikI-LuE",
        "colab_type": "code",
        "colab": {
          "base_uri": "https://localhost:8080/",
          "height": 187
        },
        "outputId": "aca1ac3e-9de8-4d9a-e3d0-449ffc6a73d9"
      },
      "source": [
        "print(predictions)\n",
        "print(labels)"
      ],
      "execution_count": null,
      "outputs": [
        {
          "output_type": "stream",
          "text": [
            "tensor([[ 57.7079,  70.4623],\n",
            "        [ 77.5975,  98.9614],\n",
            "        [128.3031, 136.5970],\n",
            "        [ 23.9365,  38.1593],\n",
            "        [ 92.1946, 115.4091]], grad_fn=<AddBackward0>)\n",
            "tensor([[ 56.,  70.],\n",
            "        [ 81., 101.],\n",
            "        [119., 133.],\n",
            "        [ 22.,  37.],\n",
            "        [103., 119.]])\n"
          ],
          "name": "stdout"
        }
      ]
    },
    {
      "cell_type": "markdown",
      "metadata": {
        "id": "eFPRLkl_-V0J",
        "colab_type": "text"
      },
      "source": [
        "#Linear Regression Using PyTorch built-ins\n",
        "\n",
        "https://youtu.be/vo_fUOk-IKk?list=PLWKjhJtqVAbm3T2Eq1_KgloC7ogdXxdRa&t=5567"
      ]
    },
    {
      "cell_type": "code",
      "metadata": {
        "id": "l5dWbXsc5MK8",
        "colab_type": "code",
        "colab": {}
      },
      "source": [
        "import torch.nn as nn"
      ],
      "execution_count": null,
      "outputs": []
    },
    {
      "cell_type": "code",
      "metadata": {
        "id": "9mV1xpeUj2TO",
        "colab_type": "code",
        "colab": {}
      },
      "source": [
        "# Input (temp, rainfall, humidity)\n",
        "inputs = np.array([[73, 67, 43], [91, 88, 64], [87, 134, 58], \n",
        "                   [102, 43, 37], [69, 96, 70], [73, 67, 43], \n",
        "                   [91, 88, 64], [87, 134, 58], [102, 43, 37], \n",
        "                   [69, 96, 70], [73, 67, 43], [91, 88, 64], \n",
        "                   [87, 134, 58], [102, 43, 37], [69, 96, 70]], \n",
        "                  dtype='float32')\n",
        "\n",
        "# Targets \n",
        "labels = np.array([[56, 70], [81, 101], [119, 133], \n",
        "                    [22, 37], [103, 119], [56, 70], \n",
        "                    [81, 101], [119, 133], [22, 37], \n",
        "                    [103, 119], [56, 70], [81, 101], \n",
        "                    [119, 133], [22, 37], [103, 119]], \n",
        "                   dtype='float32')\n",
        "\n",
        "inputs = torch.from_numpy(inputs)\n",
        "labels = torch.from_numpy(labels)"
      ],
      "execution_count": null,
      "outputs": []
    },
    {
      "cell_type": "markdown",
      "metadata": {
        "id": "5ib7JNdmkOot",
        "colab_type": "text"
      },
      "source": [
        "Creating tensorDataset that permits access to ```inputs``` and ```labels``` as tuples"
      ]
    },
    {
      "cell_type": "code",
      "metadata": {
        "id": "cNwr56L8j_l1",
        "colab_type": "code",
        "colab": {}
      },
      "source": [
        "from torch.utils.data import TensorDataset\n",
        "from torch.utils.data import DataLoader "
      ],
      "execution_count": null,
      "outputs": []
    },
    {
      "cell_type": "code",
      "metadata": {
        "id": "zS-2WAlGkg2a",
        "colab_type": "code",
        "colab": {
          "base_uri": "https://localhost:8080/",
          "height": 34
        },
        "outputId": "8922bb3a-b0f3-4245-9f70-9962fa4f1c5e"
      },
      "source": [
        "train_ds = TensorDataset(inputs, labels)\n",
        "train_ds[:1]"
      ],
      "execution_count": null,
      "outputs": [
        {
          "output_type": "execute_result",
          "data": {
            "text/plain": [
              "(tensor([[73., 67., 43.]]), tensor([[56., 70.]]))"
            ]
          },
          "metadata": {
            "tags": []
          },
          "execution_count": 38
        }
      ]
    },
    {
      "cell_type": "code",
      "metadata": {
        "id": "MDordGC3lSCA",
        "colab_type": "code",
        "colab": {
          "base_uri": "https://localhost:8080/",
          "height": 187
        },
        "outputId": "2c13962e-8ed0-4650-cc5b-c0ffaa3df631"
      },
      "source": [
        "bs = 5\n",
        "train_dl = DataLoader(train_ds, batch_size=bs,shuffle=True)\n",
        "for x,y in train_dl:\n",
        "  print(f'x:{x}\\ny:{y}')\n",
        "  break"
      ],
      "execution_count": null,
      "outputs": [
        {
          "output_type": "stream",
          "text": [
            "x:tensor([[ 87., 134.,  58.],\n",
            "        [102.,  43.,  37.],\n",
            "        [ 87., 134.,  58.],\n",
            "        [ 69.,  96.,  70.],\n",
            "        [ 69.,  96.,  70.]])\n",
            "y:tensor([[119., 133.],\n",
            "        [ 22.,  37.],\n",
            "        [119., 133.],\n",
            "        [103., 119.],\n",
            "        [103., 119.]])\n"
          ],
          "name": "stdout"
        }
      ]
    },
    {
      "cell_type": "markdown",
      "metadata": {
        "id": "UWJWHK3pmAYQ",
        "colab_type": "text"
      },
      "source": [
        "Model creation "
      ]
    },
    {
      "cell_type": "code",
      "metadata": {
        "id": "KqeU9IM0mLoK",
        "colab_type": "code",
        "colab": {
          "base_uri": "https://localhost:8080/",
          "height": 85
        },
        "outputId": "738f182d-4cfe-4d92-a297-99ce2bc27835"
      },
      "source": [
        "model = nn.Linear(3,2) #3 input rows, 2 output rows\n",
        "print(list(model.parameters())) "
      ],
      "execution_count": null,
      "outputs": [
        {
          "output_type": "stream",
          "text": [
            "[Parameter containing:\n",
            "tensor([[ 0.2038, -0.2211, -0.0482],\n",
            "        [-0.2018,  0.0506, -0.4461]], requires_grad=True), Parameter containing:\n",
            "tensor([-0.0747,  0.2792], requires_grad=True)]\n"
          ],
          "name": "stdout"
        }
      ]
    },
    {
      "cell_type": "code",
      "metadata": {
        "id": "Y64MTYUg3WJu",
        "colab_type": "code",
        "colab": {
          "base_uri": "https://localhost:8080/",
          "height": 34
        },
        "outputId": "191408e7-9e2c-44bf-e14e-56c99b85b90a"
      },
      "source": [
        "import torch.nn.functional as F\n",
        "loss = F.mse_loss(model(inputs),labels)\n",
        "optimizer = torch.optim.SGD(model.parameters(), lr=1e-5) \n",
        "print(loss)"
      ],
      "execution_count": null,
      "outputs": [
        {
          "output_type": "stream",
          "text": [
            "tensor(13123.0166, grad_fn=<MseLossBackward>)\n"
          ],
          "name": "stdout"
        }
      ]
    },
    {
      "cell_type": "code",
      "metadata": {
        "id": "WND-IjLH32Nj",
        "colab_type": "code",
        "colab": {}
      },
      "source": [
        "#function definitions \n",
        "\n",
        "def fit(numEpoch,model,loss,optimizer,train_dl):\n",
        "  for i in range(numEpoch):\n",
        "    for z,y in train_dl:\n",
        "      pred = model(x) #Predictions\n",
        "      loss = F.mse_loss(pred, y) #Loss\n",
        "      loss.backward() #Gradient Calculation\n",
        "      optimizer.step() #update the parameters using grads\n",
        "      optimizer.zero_grad() #Resetting back to zero\n",
        "\n",
        "#Progress print\n",
        "if (i+1) % 10==0: \n",
        "  "
      ],
      "execution_count": null,
      "outputs": []
    },
    {
      "cell_type": "code",
      "metadata": {
        "id": "PRe3i0CM6Ass",
        "colab_type": "code",
        "colab": {
          "base_uri": "https://localhost:8080/",
          "height": 34
        },
        "outputId": "55763870-12fe-4186-8a25-43f5a0e0e1dd"
      },
      "source": [
        ""
      ],
      "execution_count": null,
      "outputs": [
        {
          "output_type": "execute_result",
          "data": {
            "text/plain": [
              "13123.0166015625"
            ]
          },
          "metadata": {
            "tags": []
          },
          "execution_count": 63
        }
      ]
    },
    {
      "cell_type": "code",
      "metadata": {
        "id": "ipiIUkkp4TEF",
        "colab_type": "code",
        "colab": {}
      },
      "source": [
        ""
      ],
      "execution_count": null,
      "outputs": []
    }
  ]
}