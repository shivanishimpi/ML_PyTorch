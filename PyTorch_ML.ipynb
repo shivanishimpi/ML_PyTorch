{
  "nbformat": 4,
  "nbformat_minor": 0,
  "metadata": {
    "colab": {
      "name": "PyTorch_ML.ipynb",
      "provenance": [],
      "toc_visible": true,
      "authorship_tag": "ABX9TyOVbr4tt+DRYwVhktKWz/lC",
      "include_colab_link": true
    },
    "kernelspec": {
      "name": "python3",
      "display_name": "Python 3"
    }
  },
  "cells": [
    {
      "cell_type": "markdown",
      "metadata": {
        "id": "view-in-github",
        "colab_type": "text"
      },
      "source": [
        "<a href=\"https://colab.research.google.com/github/shivanishimpi/MachineLearning_PyTorch/blob/master/PyTorch_ML.ipynb\" target=\"_parent\"><img src=\"https://colab.research.google.com/assets/colab-badge.svg\" alt=\"Open In Colab\"/></a>"
      ]
    },
    {
      "cell_type": "code",
      "metadata": {
        "id": "shSPTLa169Ni",
        "colab_type": "code",
        "colab": {},
        "cellView": "form"
      },
      "source": [
        "#@title Imports\n",
        "import numpy as np\n",
        "import torch"
      ],
      "execution_count": 7,
      "outputs": []
    },
    {
      "cell_type": "markdown",
      "metadata": {
        "id": "ulVHz03c9JCC",
        "colab_type": "text"
      },
      "source": [
        "```PyTorch``` is for processing tensors (Numbers, Vectors, 3 Dimensional arrays)"
      ]
    },
    {
      "cell_type": "markdown",
      "metadata": {
        "id": "I-k5pmBL4Tvn",
        "colab_type": "text"
      },
      "source": [
        "Reference Links:\n",
        "\n",
        "\n",
        "[For more information on Tensors](https://pytorch.org/docs/stable/tensors.html)\n",
        "\n",
        "[PyTorch AutoGrad](https://towardsdatascience.com/pytorch-autograd-understanding-the-heart-of-pytorchs-magic-2686cd94ec95)"
      ]
    },
    {
      "cell_type": "markdown",
      "metadata": {
        "id": "QxEFUKA--dsb",
        "colab_type": "text"
      },
      "source": [
        "#Table of Contents\n",
        "\n",
        "[Basics of PyTorch](#scrollTo=0eg8vAOQzChK)\n",
        "\n",
        "[Linear Regression from Scratch](#scrollTo=FOtz5Oy3F0H9)\n",
        "\n",
        "[Linear Regression using PyTorch built-ins](#scrollTo=eFPRLkl_-V0J)"
      ]
    },
    {
      "cell_type": "markdown",
      "metadata": {
        "id": "0eg8vAOQzChK",
        "colab_type": "text"
      },
      "source": [
        "#Basics of PyTorch"
      ]
    },
    {
      "cell_type": "markdown",
      "metadata": {
        "id": "AoqZOzuIzhYg",
        "colab_type": "text"
      },
      "source": [
        "Working with Torch tensors \n"
      ]
    },
    {
      "cell_type": "code",
      "metadata": {
        "id": "ACmzNSCf7wJx",
        "colab_type": "code",
        "colab": {
          "base_uri": "https://localhost:8080/",
          "height": 34
        },
        "outputId": "f26b5cfa-be02-4dca-a36e-fecf030b4498"
      },
      "source": [
        "#number\n",
        "tensor1 = torch.tensor(4.)\n",
        "tensor1.dtype\n",
        "#vector\n",
        "tensor1 = torch.tensor([1,3.5,2,4,3.])\n",
        "tensor1.dtype\n",
        "#matrix\n",
        "tensor1 = torch.tensor([[1,3],[2,4.],[2,4]])\n",
        "tensor1\n",
        "#3darray\n",
        "tensor1 = torch.tensor(\n",
        "    [\n",
        "     [[1,2],[4,5]],\n",
        "     [[2,3],[23,34]]\n",
        "    ]\n",
        ")\n",
        "tensor1.shape"
      ],
      "execution_count": 8,
      "outputs": [
        {
          "output_type": "execute_result",
          "data": {
            "text/plain": [
              "torch.Size([2, 2, 2])"
            ]
          },
          "metadata": {
            "tags": []
          },
          "execution_count": 8
        }
      ]
    },
    {
      "cell_type": "markdown",
      "metadata": {
        "id": "gA6RAJ799gcu",
        "colab_type": "text"
      },
      "source": [
        "Operations and gradients in Tensors"
      ]
    },
    {
      "cell_type": "code",
      "metadata": {
        "id": "HhqRom2B9fX8",
        "colab_type": "code",
        "colab": {
          "base_uri": "https://localhost:8080/",
          "height": 52
        },
        "outputId": "07e45aa4-ca10-4f9c-ca4b-e0907c39a552"
      },
      "source": [
        "'''\n",
        "m = torch.tensor([2,3,4])\n",
        "x = torch.tensor([42,35,62])\n",
        "c = torch.tensor([4,5,6.], requires_grad=True) #only floats need gradients\n",
        "y=m*x+c \n",
        "print(f'Operation: {y}')\n",
        "'''"
      ],
      "execution_count": 122,
      "outputs": [
        {
          "output_type": "execute_result",
          "data": {
            "application/vnd.google.colaboratory.intrinsic+json": {
              "type": "string"
            },
            "text/plain": [
              "\"\\nm = torch.tensor([2,3,4])\\nx = torch.tensor([42,35,62])\\nc = torch.tensor([4,5,6.], requires_grad=True) #only floats need gradients\\ny=m*x+c \\nprint(f'Operation: {y}')\\n\""
            ]
          },
          "metadata": {
            "tags": []
          },
          "execution_count": 122
        }
      ]
    },
    {
      "cell_type": "code",
      "metadata": {
        "id": "ZHNgHLQqwJTO",
        "colab_type": "code",
        "colab": {
          "base_uri": "https://localhost:8080/",
          "height": 119
        },
        "outputId": "7f850637-cf5b-4b0e-b563-27d9f6e6aeaf"
      },
      "source": [
        "m = torch.tensor(6. ,requires_grad=True)\n",
        "x = torch.tensor(2., requires_grad=True)\n",
        "c = torch.tensor(4., requires_grad=True) #only floats need gradients\n",
        "y=m*x+c\n",
        "y.backward() #works only for scalars, computes gradients\n",
        "\n",
        "print(f'''Displaying gradients / derivatives:\n",
        "y = mx + c = {y}\n",
        "dy/dx = {x.grad}\n",
        "dy/dm = {m.grad}\n",
        "dy/dc = {c.grad}\n",
        "''')"
      ],
      "execution_count": 10,
      "outputs": [
        {
          "output_type": "stream",
          "text": [
            "Displaying gradients / derivatives:\n",
            "y = mx + c = 16.0\n",
            "dy/dx = 6.0\n",
            "dy/dm = 2.0\n",
            "dy/dc = 1.0\n",
            "\n"
          ],
          "name": "stdout"
        }
      ]
    },
    {
      "cell_type": "markdown",
      "metadata": {
        "id": "K9uFKwWwxgAr",
        "colab_type": "text"
      },
      "source": [
        "Interoperability with ```Numpy```"
      ]
    },
    {
      "cell_type": "code",
      "metadata": {
        "id": "WAgJ82XOxpNc",
        "colab_type": "code",
        "colab": {
          "base_uri": "https://localhost:8080/",
          "height": 68
        },
        "outputId": "c4f30c3c-a1d8-407f-b69e-19165b016173"
      },
      "source": [
        "import numpy as np\n",
        "\n",
        "print(f'Input Torch Tensor: {y.dtype}')\n",
        "\n",
        "#from torch tensor to numpy array\n",
        "x = y.detach().numpy() #for gradients, else y.numpy()\n",
        "print(f'Converted to Numpy Array: {x.dtype}')\n",
        "\n",
        "#from numpy array to torch tensor\n",
        "y = torch.from_numpy(x)\n",
        "print(f'Reconverted to Torch Tensor: {y.dtype}')"
      ],
      "execution_count": 11,
      "outputs": [
        {
          "output_type": "stream",
          "text": [
            "Input Torch Tensor: torch.float32\n",
            "Converted to Numpy Array: float32\n",
            "Reconverted to Torch Tensor: torch.float32\n"
          ],
          "name": "stdout"
        }
      ]
    },
    {
      "cell_type": "markdown",
      "metadata": {
        "id": "FOtz5Oy3F0H9",
        "colab_type": "text"
      },
      "source": [
        "#Linear Regression from the Scratch"
      ]
    },
    {
      "cell_type": "markdown",
      "metadata": {
        "id": "AmI5lOSrHcbm",
        "colab_type": "text"
      },
      "source": [
        "We aren't using any input files here, since this is just s test implementation of model so we are going to create our own data\n",
        "\n",
        "*Data creation*"
      ]
    },
    {
      "cell_type": "code",
      "metadata": {
        "id": "0aviL2DgpRYn",
        "colab_type": "code",
        "colab": {
          "base_uri": "https://localhost:8080/",
          "height": 52
        },
        "outputId": "5c8929b8-8516-4814-8f83-6d9547457524"
      },
      "source": [
        "#Not gonna work since np.random.uniform doesn't take the dtype argument and it'd naturally be in float64\n",
        "'''\n",
        "inputs = np.random.uniform(low=20., high=99., size=(5,3))\n",
        "labels = np.random.uniform(low=50., high=150., size=(5,2))\n",
        "print(f'Inputs: {inputs}\\nLabels: {labels}')\n",
        "'''"
      ],
      "execution_count": 92,
      "outputs": [
        {
          "output_type": "execute_result",
          "data": {
            "application/vnd.google.colaboratory.intrinsic+json": {
              "type": "string"
            },
            "text/plain": [
              "\"\\ninputs = np.random.uniform(low=20., high=99., size=(5,3))\\nlabels = np.random.uniform(low=50., high=150., size=(5,2))\\nprint(f'Inputs: {inputs}\\nLabels: {labels}')\\n\""
            ]
          },
          "metadata": {
            "tags": []
          },
          "execution_count": 92
        }
      ]
    },
    {
      "cell_type": "code",
      "metadata": {
        "id": "oA8IBFUYxniC",
        "colab_type": "code",
        "colab": {}
      },
      "source": [
        "# Input (temp, rainfall, humidity)\n",
        "inputs = np.array([[73, 67, 43], \n",
        "                   [91, 88, 64], \n",
        "                   [87, 134, 58], \n",
        "                   [102, 43, 37], \n",
        "                   [69, 96, 70]], dtype='float32')\n",
        "# Targets (apples, oranges)\n",
        "labels = np.array([[56, 70], \n",
        "                    [81, 101], \n",
        "                    [119, 133], \n",
        "                    [22, 37], \n",
        "                    [103, 119]], dtype='float32')"
      ],
      "execution_count": 93,
      "outputs": []
    },
    {
      "cell_type": "code",
      "metadata": {
        "id": "exQv8ZNkmuhB",
        "colab_type": "code",
        "colab": {}
      },
      "source": [
        "inputs = torch.from_numpy(inputs)\n",
        "labels = torch.from_numpy(labels)"
      ],
      "execution_count": 94,
      "outputs": []
    },
    {
      "cell_type": "code",
      "metadata": {
        "id": "sajBAOR0yT2f",
        "colab_type": "code",
        "colab": {
          "base_uri": "https://localhost:8080/",
          "height": 34
        },
        "outputId": "fa346ca4-b1fa-44d3-927a-1b760bf7c986"
      },
      "source": [
        "inputs.dtype #if dtype!='float32' print(runtimeError)"
      ],
      "execution_count": 95,
      "outputs": [
        {
          "output_type": "execute_result",
          "data": {
            "text/plain": [
              "torch.float32"
            ]
          },
          "metadata": {
            "tags": []
          },
          "execution_count": 95
        }
      ]
    },
    {
      "cell_type": "markdown",
      "metadata": {
        "id": "t3yArPWmzExi",
        "colab_type": "text"
      },
      "source": [
        "Creating the linear regresssion model \n",
        "\n",
        "\n",
        "The equations are going to be - \n",
        "\n",
        "\n",
        "\n",
        "$$labels^{1} = w_{11}\\cdot inputs^{1} + w_{12}\\cdot inputs^{2}+ w_{13}\\cdot inputs^{3}+b_{1}$$\n",
        "\n",
        "$$labels^{2} = w_{21}\\cdot inputs^{1} + w_{22}\\cdot inputs^{2}+ w_{23}\\cdot inputs^{3}+b_{2}$$"
      ]
    },
    {
      "cell_type": "code",
      "metadata": {
        "id": "x_ufz3UvsWF0",
        "colab_type": "code",
        "colab": {
          "base_uri": "https://localhost:8080/",
          "height": 102
        },
        "outputId": "008b77c6-243c-4d8e-8191-2cc95ab49534"
      },
      "source": [
        "weights = torch.randn(2,3,requires_grad=True) #2x3 weights matrix\n",
        "bias = torch.randn(2,requires_grad=True) #two bias units\n",
        "print(f'''\n",
        "{weights}\n",
        "{bias}\n",
        "''')"
      ],
      "execution_count": 96,
      "outputs": [
        {
          "output_type": "stream",
          "text": [
            "\n",
            "tensor([[ 0.3221,  1.9652,  1.0937],\n",
            "        [ 0.6828, -0.0392,  0.7854]], requires_grad=True)\n",
            "tensor([ 0.7780, -0.3254], requires_grad=True)\n",
            "\n"
          ],
          "name": "stdout"
        }
      ]
    },
    {
      "cell_type": "code",
      "metadata": {
        "id": "aK7g8sdjuqfH",
        "colab_type": "code",
        "colab": {}
      },
      "source": [
        "def model(x):\n",
        "  return x@weights.t() + bias #@ is matrix multiplication and .t() is transpose"
      ],
      "execution_count": 97,
      "outputs": []
    },
    {
      "cell_type": "code",
      "metadata": {
        "id": "JDRS6_o_wlew",
        "colab_type": "code",
        "colab": {
          "base_uri": "https://localhost:8080/",
          "height": 187
        },
        "outputId": "89e3e1f7-3e80-4fbc-8108-39f949f7505f"
      },
      "source": [
        "predictions = model(inputs)\n",
        "print(predictions)\n",
        "print(labels)"
      ],
      "execution_count": 106,
      "outputs": [
        {
          "output_type": "stream",
          "text": [
            "tensor([[202.9915,  80.6637],\n",
            "        [273.0264, 108.6238],\n",
            "        [355.5762,  99.3747],\n",
            "        [158.6064,  96.6955],\n",
            "        [288.2230,  97.9998]], grad_fn=<AddBackward0>)\n",
            "tensor([[ 56.,  70.],\n",
            "        [ 81., 101.],\n",
            "        [119., 133.],\n",
            "        [ 22.,  37.],\n",
            "        [103., 119.]])\n"
          ],
          "name": "stdout"
        }
      ]
    },
    {
      "cell_type": "markdown",
      "metadata": {
        "id": "0SMFoyx31Exa",
        "colab_type": "text"
      },
      "source": [
        "Mean Squared Error (MSE) Loss"
      ]
    },
    {
      "cell_type": "code",
      "metadata": {
        "id": "uGVRmaJV1ELb",
        "colab_type": "code",
        "colab": {
          "base_uri": "https://localhost:8080/",
          "height": 34
        },
        "outputId": "12a70ab1-28c4-4e5c-c83e-f05984017362"
      },
      "source": [
        "#delta = (predictions - labels)**2\n",
        "#print(torch.sum(delta)/delta.numel())"
      ],
      "execution_count": 111,
      "outputs": [
        {
          "output_type": "stream",
          "text": [
            "tensor(17272.4844, grad_fn=<DivBackward0>)\n"
          ],
          "name": "stdout"
        }
      ]
    },
    {
      "cell_type": "code",
      "metadata": {
        "id": "Od-oK4C61qv5",
        "colab_type": "code",
        "colab": {}
      },
      "source": [
        "def MSE(val1,val2):\n",
        "  delta = (val1-val2)**2\n",
        "  return torch.sum(delta)/delta.numel()"
      ],
      "execution_count": 112,
      "outputs": []
    },
    {
      "cell_type": "code",
      "metadata": {
        "id": "hRaH-R1T12er",
        "colab_type": "code",
        "colab": {
          "base_uri": "https://localhost:8080/",
          "height": 34
        },
        "outputId": "ea0bd886-3094-4a3d-f94d-241953e9e7b4"
      },
      "source": [
        "loss = MSE(predictions, labels)\n",
        "print(loss)"
      ],
      "execution_count": 114,
      "outputs": [
        {
          "output_type": "stream",
          "text": [
            "tensor(17272.4844, grad_fn=<DivBackward0>)\n"
          ],
          "name": "stdout"
        }
      ]
    },
    {
      "cell_type": "code",
      "metadata": {
        "id": "qSG_igAh3c-s",
        "colab_type": "code",
        "colab": {}
      },
      "source": [
        "loss.backward(create_graph=True)"
      ],
      "execution_count": 118,
      "outputs": []
    },
    {
      "cell_type": "markdown",
      "metadata": {
        "id": "qZb66R0V71zB",
        "colab_type": "text"
      },
      "source": [
        "PyTorch accumulates gradients, so if ```.backward()``` is called again, it'll add the new gradients to the former one, rather than replacing it"
      ]
    },
    {
      "cell_type": "code",
      "metadata": {
        "id": "PuDUamNn3X15",
        "colab_type": "code",
        "colab": {
          "base_uri": "https://localhost:8080/",
          "height": 34
        },
        "outputId": "1f1c01d6-2868-4ffc-f1a3-5c38f05ed14f"
      },
      "source": [
        "weights.grad.zero_()\n",
        "bias.grad.zero_()"
      ],
      "execution_count": 133,
      "outputs": [
        {
          "output_type": "execute_result",
          "data": {
            "text/plain": [
              "tensor([0., 0.], grad_fn=<ZeroBackward>)"
            ]
          },
          "metadata": {
            "tags": []
          },
          "execution_count": 133
        }
      ]
    },
    {
      "cell_type": "markdown",
      "metadata": {
        "id": "nVsnCsUS8ODt",
        "colab_type": "text"
      },
      "source": [
        "Gradient descent"
      ]
    },
    {
      "cell_type": "markdown",
      "metadata": {
        "id": "vcHC1_xs8il_",
        "colab_type": "text"
      },
      "source": [
        "```torch.no_grad()``` avoids any gradient modification while updating the weights and biases"
      ]
    },
    {
      "cell_type": "code",
      "metadata": {
        "id": "SQxBauYV8Nr_",
        "colab_type": "code",
        "colab": {}
      },
      "source": [
        "numEpoch = 100\n",
        "learning_rate = 1e-4\n",
        "\n",
        "for i in range(numEpoch):\n",
        "  predictions = model(inputs)\n",
        "  loss = MSE(predictions,labels)\n",
        "  loss.backward()\n",
        "  with torch.no_grad():\n",
        "    weights -= weights.grad * learning_rate\n",
        "    bias -= bias.grad * learning_rate\n",
        "    weights.grad.zero_()\n",
        "    bias.grad.zero_()"
      ],
      "execution_count": 139,
      "outputs": []
    },
    {
      "cell_type": "code",
      "metadata": {
        "id": "nkRWhYrE-BEm",
        "colab_type": "code",
        "colab": {
          "base_uri": "https://localhost:8080/",
          "height": 34
        },
        "outputId": "25a67830-73ad-4503-bacf-e6076ba2d54e"
      },
      "source": [
        "predictions = model(inputs)\n",
        "loss = MSE(predictions, labels)\n",
        "print(loss)"
      ],
      "execution_count": 140,
      "outputs": [
        {
          "output_type": "stream",
          "text": [
            "tensor(0.5599, grad_fn=<DivBackward0>)\n"
          ],
          "name": "stdout"
        }
      ]
    },
    {
      "cell_type": "code",
      "metadata": {
        "id": "EZP78ikI-LuE",
        "colab_type": "code",
        "colab": {
          "base_uri": "https://localhost:8080/",
          "height": 187
        },
        "outputId": "9d8a422c-303e-40d7-90ee-303ae9024be9"
      },
      "source": [
        "print(predictions)\n",
        "print(labels)"
      ],
      "execution_count": 141,
      "outputs": [
        {
          "output_type": "stream",
          "text": [
            "tensor([[ 57.3169,  70.2572],\n",
            "        [ 81.9331, 100.6729],\n",
            "        [119.0743, 133.0346],\n",
            "        [ 21.1779,  37.0412],\n",
            "        [101.5394, 119.0618]], grad_fn=<AddBackward0>)\n",
            "tensor([[ 56.,  70.],\n",
            "        [ 81., 101.],\n",
            "        [119., 133.],\n",
            "        [ 22.,  37.],\n",
            "        [103., 119.]])\n"
          ],
          "name": "stdout"
        }
      ]
    },
    {
      "cell_type": "markdown",
      "metadata": {
        "id": "eFPRLkl_-V0J",
        "colab_type": "text"
      },
      "source": [
        "#Linear Regression Using PyTorch built-ins\n",
        "\n",
        "https://youtu.be/vo_fUOk-IKk?list=PLWKjhJtqVAbm3T2Eq1_KgloC7ogdXxdRa&t=5567"
      ]
    }
  ]
}